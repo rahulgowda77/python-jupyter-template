{
 "cells": [
  {
   "cell_type": "markdown",
   "metadata": {},
   "source": [
    "### Exercise 5: Subplot Layout"
   ]
  },
  {
   "cell_type": "code",
   "execution_count": null,
   "metadata": {},
   "outputs": [],
   "source": [
    "# TASK: Create a 2x2 subplot layout.\n",
    "# Plot a line chart in the first subplot, a bar chart in the second, a scatter plot in the third, and a pie chart in the fourth.\n",
    "import matplotlib.pyplot as plt\n",
    "import numpy as np\n",
    "\n",
    "# Generate x values from 0 to 10\n",
    "x = np.linspace(0, 10, 100)\n",
    "y = x**2  # Square of x\n",
    "\n",
    "# Data for bar plot\n",
    "categories = ['A', 'B', 'C', 'D']\n",
    "values = [5, 7, 3, 9]\n",
    "colors = ['red', 'blue', 'green', 'purple']\n",
    "\n",
    "# Data for scatter plot\n",
    "x_scatter = [1, 2, 3, 4, 5]\n",
    "y_scatter = [2, 4, 6, 8, 10]\n",
    "\n",
    "# Data for pie chart\n",
    "labels = ['Python', 'Java', 'C++', 'JavaScript']\n",
    "sizes = [40, 25, 20, 15]\n",
    "colors_pie = ['blue', 'green', 'red', 'orange']\n",
    "\n",
    "# Create a 2x2 subplot layout\n",
    "fig, axs = plt.subplots(2, 2, figsize=(10, 10))\n",
    "\n",
    "# Line plot in the first subplot\n",
    "axs[0, 0].plot(x, y, label='y = x^2', color='b', linestyle='-')\n",
    "axs[0, 0].set_title('Line Plot')\n",
    "axs[0, 0].set_xlabel('X Values')\n",
    "axs[0, 0].set_ylabel('Y Values')\n",
    "axs[0, 0].grid(True, linestyle='--', alpha=0.7)\n",
    "axs[0, 0].legend()\n",
    "\n",
    "# Bar plot in the second subplot\n",
    "axs[0, 1].bar(categories, values, color=colors)\n",
    "axs[0, 1].set_title('Bar Plot')\n",
    "axs[0, 1].set_xlabel('Categories')\n",
    "axs[0, 1].set_ylabel('Values')\n",
    "\n",
    "# Scatter plot in the third subplot\n",
    "axs[1, 0].scatter(x_scatter, y_scatter, color='red')\n",
    "axs[1, 0].set_title('Scatter Plot')\n",
    "axs[1, 0].set_xlabel('X Values')\n",
    "axs[1, 0].set_ylabel('Y Values')\n",
    "for i, txt in enumerate(zip(x_scatter, y_scatter)):\n",
    "    axs[1, 0].annotate(f'({txt[0]}, {txt[1]})', (x_scatter[i], y_scatter[i]), textcoords=\"offset points\", xytext=(5,5), ha='center')\n",
    "\n",
    "# Pie chart in the fourth subplot\n",
    "axs[1, 1].pie(sizes, labels=labels, autopct='%1.1f%%', startangle=140, colors=colors_pie)\n",
    "axs[1, 1].set_title('Pie Chart')\n",
    "\n",
    "# Adjust layout\n",
    "plt.tight_layout()\n",
    "\n",
    "# Show the plots\n",
    "plt.show()"
   ]
  }
 ],
 "metadata": {
  "language_info": {
   "name": "python"
  }
 },
 "nbformat": 4,
 "nbformat_minor": 2
}
