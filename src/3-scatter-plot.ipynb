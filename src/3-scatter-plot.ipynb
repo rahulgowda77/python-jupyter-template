{
 "cells": [
  {
   "cell_type": "markdown",
   "metadata": {},
   "source": [
    "### Exercise 3: Scatter Plot with Annotations"
   ]
  },
  {
   "cell_type": "code",
   "execution_count": null,
   "metadata": {},
   "outputs": [],
   "source": [
    "# TASK: Create a scatter plot with x = [1, 2, 3, 4, 5] and y = [2, 4, 6, 8, 10].\n",
    "# Annotate each point with its (x, y) value, and set the title as 'Scatter Plot with Annotations'.\n",
    "import matplotlib.pyplot as plt\n",
    "import numpy as np\n",
    "\n",
    "# Generate x values from 0 to 10\n",
    "x = np.linspace(0, 10, 100)\n",
    "y = x**2  # Square of x\n",
    "\n",
    "# Create the plot\n",
    "plt.plot(x, y, label='y = x^2', color='b', linestyle='-')\n",
    "\n",
    "# Add title and labels\n",
    "plt.title('Line Plot of y = x^2')\n",
    "plt.xlabel('X Values')\n",
    "plt.ylabel('Y Values')\n",
    "\n",
    "# Add grid\n",
    "plt.grid(True, linestyle='--', alpha=0.7)\n",
    "\n",
    "# Add legend\n",
    "plt.legend()\n",
    "\n",
    "# Show the plot\n",
    "plt.show()\n",
    "\n",
    "# Create a bar plot with given data\n",
    "categories = ['A', 'B', 'C', 'D']\n",
    "values = [5, 7, 3, 9]\n",
    "colors = ['red', 'blue', 'green', 'purple']\n",
    "\n",
    "plt.bar(categories, values, color=colors)\n",
    "plt.title('Bar Plot of Categories')\n",
    "plt.xlabel('Categories')\n",
    "plt.ylabel('Values')\n",
    "\n",
    "# Show the plot\n",
    "plt.show()\n",
    "\n",
    "# Create a scatter plot with annotations\n",
    "x_scatter = [1, 2, 3, 4, 5]\n",
    "y_scatter = [2, 4, 6, 8, 10]\n",
    "\n",
    "plt.scatter(x_scatter, y_scatter, color='red')\n",
    "plt.title('Scatter Plot with Annotations')\n",
    "plt.xlabel('X Values')\n",
    "plt.ylabel('Y Values')\n",
    "\n",
    "# Annotate each point\n",
    "for i, txt in enumerate(zip(x_scatter, y_scatter)):\n",
    "    plt.annotate(f'({txt[0]}, {txt[1]})', (x_scatter[i], y_scatter[i]), textcoords=\"offset points\", xytext=(5,5), ha='center')\n",
    "\n",
    "# Show the plot\n",
    "plt.show()\n"
   ]
  }
 ],
 "metadata": {
  "language_info": {
   "name": "python"
  }
 },
 "nbformat": 4,
 "nbformat_minor": 2
}
