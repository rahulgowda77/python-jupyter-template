import matplotlib.pyplot as plt
import numpy as np

# Generate x values from 0 to 10
x = np.linspace(0, 10, 100)
y = x**2  # Square of x

# Create the plot
plt.plot(x, y, label='y = x^2', color='b', linestyle='-')

# Add title and labels
plt.title('Line Plot of y = x^2')
plt.xlabel('X Values')
plt.ylabel('Y Values')

# Add grid
plt.grid(True, linestyle='--', alpha=0.7)

# Add legend
plt.legend()

# Show the plot
plt.show()